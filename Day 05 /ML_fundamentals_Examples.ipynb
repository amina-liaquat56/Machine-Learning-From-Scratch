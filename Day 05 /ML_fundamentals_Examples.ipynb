{
 "cells": [
  {
   "cell_type": "markdown",
   "metadata": {},
   "source": "# 📘 Machine Learning Fundamentals with Examples"
  },
  {
   "cell_type": "markdown",
   "metadata": {},
   "source": "## 1. Batch vs Online Learning"
  },
  {
   "cell_type": "code",
   "execution_count": null,
   "metadata": {},
   "outputs": [],
   "source": "from sklearn.linear_model import LinearRegression\nfrom sklearn.datasets import make_regression\n\nX, y = make_regression(n_samples=1000, n_features=1, noise=10)\nmodel = LinearRegression()\nmodel.fit(X, y)\nprint(\"Batch model trained with full dataset.\")"
  },
  {
   "cell_type": "code",
   "execution_count": null,
   "metadata": {},
   "outputs": [],
   "source": "from sklearn.linear_model import SGDRegressor\n\nmodel = SGDRegressor(max_iter=1, warm_start=True)\nfor i in range(0, 1000, 100):\n    model.fit(X[i:i+100], y[i:i+100])\nprint(\"Online model trained incrementally.\")"
  },
  {
   "cell_type": "markdown",
   "metadata": {},
   "source": "## 2. Supervised vs Unsupervised Learning"
  },
  {
   "cell_type": "code",
   "execution_count": null,
   "metadata": {},
   "outputs": [],
   "source": "from sklearn.datasets import load_iris\nfrom sklearn.tree import DecisionTreeClassifier\n\niris = load_iris()\nclf = DecisionTreeClassifier()\nclf.fit(iris.data, iris.target)\nprint(\"Supervised model trained on Iris dataset.\")"
  },
  {
   "cell_type": "code",
   "execution_count": null,
   "metadata": {},
   "outputs": [],
   "source": "from sklearn.cluster import KMeans\n\nkmeans = KMeans(n_clusters=3)\nkmeans.fit(iris.data)\nprint(\"Unsupervised model applied (KMeans clustering).\")"
  },
  {
   "cell_type": "markdown",
   "metadata": {},
   "source": "## 3. Privacy Risks - Label Leakage Example"
  },
  {
   "cell_type": "code",
   "execution_count": null,
   "metadata": {},
   "outputs": [],
   "source": "import pandas as pd\n\ndata = pd.DataFrame({\n    'feature1': [1, 2, 3, 4],\n    'feature2': [0, 1, 0, 1],  # Possibly leaked label\n    'label': [0, 1, 0, 1]\n})\n\nprint(data)"
  },
  {
   "cell_type": "markdown",
   "metadata": {},
   "source": "## 4. Unsupervised Learning Risks - Association Example"
  },
  {
   "cell_type": "code",
   "execution_count": null,
   "metadata": {},
   "outputs": [],
   "source": "from mlxtend.frequent_patterns import apriori, association_rules\nfrom mlxtend.preprocessing import TransactionEncoder\n\ntransactions = [['milk', 'bread'], ['bread', 'butter'], ['milk', 'bread', 'butter']]\nte = TransactionEncoder()\nte_ary = te.fit(transactions).transform(transactions)\ndf = pd.DataFrame(te_ary, columns=te.columns_)\n\nfrequent_itemsets = apriori(df, min_support=0.5, use_colnames=True)\nrules = association_rules(frequent_itemsets, metric='lift', min_threshold=1.0)\n\nprint(rules[['antecedents', 'consequents', 'support', 'confidence']])"
  }
 ],
 "metadata": {
  "kernelspec": {
   "display_name": "Python 3",
   "language": "python",
   "name": "python3"
  },
  "language_info": {
   "name": "python",
   "version": "3.8"
  }
 },
 "nbformat": 4,
 "nbformat_minor": 5
}

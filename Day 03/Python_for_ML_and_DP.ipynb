{
 "cells": [
  {
   "cell_type": "markdown",
   "id": "8f763ac6",
   "metadata": {},
   "source": [
    "# 🐍 Python for Machine Learning"
   ]
  },
  {
   "cell_type": "markdown",
   "id": "590c5dce",
   "metadata": {},
   "source": [
    "## 1. Introduction to Python Programming (If Needed)"
   ]
  },
  {
   "cell_type": "code",
   "execution_count": null,
   "id": "23e02fc4",
   "metadata": {},
   "outputs": [],
   "source": [
    "# Variables and Data Types\n",
    "name = \"Amina\"\n",
    "age = 25\n",
    "height = 5.6\n",
    "is_student = True\n",
    "\n",
    "# List and Loop\n",
    "languages = [\"Python\", \"Java\", \"C++\"]\n",
    "for lang in languages:\n",
    "    print(f\"I love {lang}\")\n",
    "\n",
    "# Function\n",
    "def square(n):\n",
    "    return n * n\n",
    "\n",
    "print(square(4))  # Output: 16"
   ]
  },
  {
   "cell_type": "markdown",
   "id": "9b093465",
   "metadata": {},
   "source": [
    "## 2. Libraries for Data Analysis"
   ]
  },
  {
   "cell_type": "code",
   "execution_count": null,
   "id": "761be903",
   "metadata": {},
   "outputs": [],
   "source": [
    "import pandas as pd\n",
    "\n",
    "# Create a DataFrame\n",
    "data = {'Name': ['Ali', 'Sara', 'John'], 'Age': [25, 30, 28]}\n",
    "df = pd.DataFrame(data)\n",
    "\n",
    "print(df)\n",
    "\n",
    "# Basic operations\n",
    "print(df.describe())\n",
    "print(df['Age'].mean())"
   ]
  },
  {
   "cell_type": "code",
   "execution_count": null,
   "id": "db674c0b",
   "metadata": {},
   "outputs": [],
   "source": [
    "import numpy as np\n",
    "\n",
    "# Create an array\n",
    "a = np.array([[1, 2], [3, 4]])\n",
    "\n",
    "# Matrix operations\n",
    "print(\"Shape:\", a.shape)\n",
    "print(\"Sum:\", np.sum(a))\n",
    "print(\"Transpose:\\n\", a.T)"
   ]
  },
  {
   "cell_type": "markdown",
   "id": "11030846",
   "metadata": {},
   "source": [
    "## 3. Introduction to Privacy Libraries in Python"
   ]
  },
  {
   "cell_type": "code",
   "execution_count": null,
   "id": "e0804d94",
   "metadata": {},
   "outputs": [],
   "source": [
    "# You may need to install with: pip install syft opacus torch torchvision"
   ]
  },
  {
   "cell_type": "markdown",
   "id": "55ddcc0b",
   "metadata": {},
   "source": [
    "## 4. Libraries for Implementing Differential Privacy"
   ]
  },
  {
   "cell_type": "markdown",
   "id": "49dbf06b",
   "metadata": {},
   "source": [
    "### PySyft Example"
   ]
  },
  {
   "cell_type": "code",
   "execution_count": null,
   "id": "1536fa63",
   "metadata": {},
   "outputs": [],
   "source": [
    "import syft as sy\n",
    "\n",
    "# Create a virtual machine (represents a remote worker)\n",
    "domain = sy.Domain(name=\"MyDomain\")\n",
    "device = sy.Device(name=\"Device1\", domain=domain)\n",
    "\n",
    "# Sending data to the remote device\n",
    "data = sy.Tensor([1, 2, 3])\n",
    "remote_data = data.send(device=device)\n",
    "\n",
    "print(\"Remote data:\", remote_data)"
   ]
  },
  {
   "cell_type": "markdown",
   "id": "c72b244f",
   "metadata": {},
   "source": [
    "### PyTorch Opacus Example"
   ]
  },
  {
   "cell_type": "code",
   "execution_count": null,
   "id": "bf241e56",
   "metadata": {},
   "outputs": [],
   "source": [
    "import torch\n",
    "from torch import nn, optim\n",
    "from opacus import PrivacyEngine\n",
    "from torchvision import datasets, transforms\n",
    "from torch.utils.data import DataLoader\n",
    "\n",
    "# Dummy Dataset\n",
    "train_loader = DataLoader(\n",
    "    datasets.MNIST('.', train=True, download=True, transform=transforms.ToTensor()),\n",
    "    batch_size=64,\n",
    "    shuffle=True\n",
    ")\n",
    "\n",
    "# Simple model\n",
    "model = nn.Sequential(\n",
    "    nn.Flatten(),\n",
    "    nn.Linear(28*28, 128),\n",
    "    nn.ReLU(),\n",
    "    nn.Linear(128, 10)\n",
    ")\n",
    "\n",
    "optimizer = optim.SGD(model.parameters(), lr=0.01)\n",
    "criterion = nn.CrossEntropyLoss()\n",
    "\n",
    "# Attach Opacus PrivacyEngine\n",
    "privacy_engine = PrivacyEngine()\n",
    "model, optimizer, train_loader = privacy_engine.make_private(\n",
    "    module=model,\n",
    "    optimizer=optimizer,\n",
    "    data_loader=train_loader,\n",
    "    noise_multiplier=1.0,\n",
    "    max_grad_norm=1.0,\n",
    ")\n",
    "\n",
    "# One training step (for demo)\n",
    "model.train()\n",
    "for images, labels in train_loader:\n",
    "    optimizer.zero_grad()\n",
    "    outputs = model(images)\n",
    "    loss = criterion(outputs, labels)\n",
    "    loss.backward()\n",
    "    optimizer.step()\n",
    "    print(\"Loss:\", loss.item())\n",
    "    break  # one batch for demo"
   ]
  }
 ],
 "metadata": {},
 "nbformat": 4,
 "nbformat_minor": 5
}

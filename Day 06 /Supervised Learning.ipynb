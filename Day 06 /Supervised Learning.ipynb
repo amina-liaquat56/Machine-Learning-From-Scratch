{
 "cells": [
  {
   "cell_type": "markdown",
   "metadata": {},
   "source": [
    "# Supervised Learning Algorithms\n",
    "\n",
    "This notebook demonstrates:\n",
    "- Regression algorithms (Linear, Polynomial)\n",
    "- Classification algorithms (Decision Trees, Random Forest, KNN)\n",
    "- Differential Privacy implementations"
   ]
  },
  {
   "cell_type": "markdown",
   "metadata": {},
   "source": [
    "## 1. Setup and Imports"
   ]
  },
  {
   "cell_type": "code",
   "execution_count": null,
   "metadata": {},
   "outputs": [],
   "source": [
    "import numpy as np\n",
    "import matplotlib.pyplot as plt\n",
    "from sklearn.model_selection import train_test_split\n",
    "from sklearn.metrics import mean_squared_error, classification_report\n",
    "from sklearn.preprocessing import PolynomialFeatures, StandardScaler\n",
    "from sklearn.datasets import load_iris, load_breast_cancer, make_classification\n",
    "\n",
    "# Regression\n",
    "from sklearn.linear_model import LinearRegression\n",
    "\n",
    "# Classification\n",
    "from sklearn.tree import DecisionTreeClassifier, plot_tree\n",
    "from sklearn.ensemble import RandomForestClassifier\n",
    "from sklearn.neighbors import KNeighborsClassifier\n",
    "\n",
    "# Differential Privacy\n",
    "try:\n",
    "    from diffprivlib.models import LinearRegression as DPLinearRegression\n",
    "    from diffprivlib.models import DecisionTreeClassifier as DPDecisionTreeClassifier\n",
    "except ImportError:\n",
    "    !pip install diffprivlib\n",
    "    from diffprivlib.models import LinearRegression as DPLinearRegression\n",
    "    from diffprivlib.models import DecisionTreeClassifier as DPDecisionTreeClassifier\n",
    "\n",
    "plt.style.use('seaborn-v0_8')\n",
    "%matplotlib inline"
   ]
  },
  {
   "cell_type": "markdown",
   "metadata": {},
   "source": [
    "## 2. Regression Examples"
   ]
  },
  {
   "cell_type": "markdown",
   "metadata": {},
   "source": [
    "### 2.1 Simple Linear Regression (House Price Prediction)"
   ]
  },
  {
   "cell_type": "code",
   "execution_count": null,
   "metadata": {},
   "outputs": [],
   "source": [
    "# Sample data\n",
    "X = np.array([750, 800, 850, 900, 950, 1000, 1050, 1100, 1150, 1200]).reshape(-1, 1)\n",
    "y = np.array([150000, 165000, 175000, 185000, 195000, 210000, 220000, 230000, 245000, 250000])\n",
    "\n",
    "# Create and fit model\n",
    "model = LinearRegression()\n",
    "model.fit(X, y)\n",
    "\n",
    "# Predictions\n",
    "y_pred = model.predict(X)\n",
    "\n",
    "# Plot\n",
    "plt.figure(figsize=(10, 6))\n",
    "plt.scatter(X, y, color='blue', label='Actual Prices')\n",
    "plt.plot(X, y_pred, color='red', linewidth=2, label='Predicted Prices')\n",
    "plt.title('House Price Prediction', fontsize=16)\n",
    "plt.xlabel('Size (sq ft)', fontsize=14)\n",
    "plt.ylabel('Price ($)', fontsize=14)\n",
    "plt.legend(fontsize=12)\n",
    "plt.grid(True)\n",
    "plt.show()\n",
    "\n",
    "print(f\"Model equation: Price = {model.intercept_:.2f} + {model.coef_[0]:.2f}*Size\")\n",
    "print(f\"MSE: {mean_squared_error(y, y_pred):.2f}\")"
   ]
  },
  {
   "cell_type": "markdown",
   "metadata": {},
   "source": [
    "### 2.2 Polynomial Regression"
   ]
  },
  {
   "cell_type": "code",
   "execution_count": null,
   "metadata": {},
   "outputs": [],
   "source": [
    "# Generate non-linear data\n",
    "np.random.seed(42)\n",
    "X = np.linspace(-3, 3, 100).reshape(-1, 1)\n",
    "y = 0.5*X**3 + X**2 - 2*X + np.random.normal(0, 3, 100).reshape(-1, 1)\n",
    "\n",
    "# Transform features\n",
    "poly = PolynomialFeatures(degree=3)\n",
    "X_poly = poly.fit_transform(X)\n",
    "\n",
    "# Fit model\n",
    "model = LinearRegression()\n",
    "model.fit(X_poly, y)\n",
    "\n",
    "# Predictions\n",
    "y_pred = model.predict(X_poly)\n",
    "\n",
    "# Plot\n",
    "plt.figure(figsize=(10, 6))\n",
    "plt.scatter(X, y, color='blue', label='Data points')\n",
    "plt.plot(X, y_pred, color='red', linewidth=2, label='Polynomial fit (degree=3)')\n",
    "plt.title('Polynomial Regression Example', fontsize=16)\n",
    "plt.xlabel('Feature', fontsize=14)\n",
    "plt.ylabel('Target', fontsize=14)\n",
    "plt.legend(fontsize=12)\n",
    "plt.grid(True)\n",
    "plt.show()"
   ]
  },
  {
   "cell_type": "markdown",
   "metadata": {},
   "source": [
    "## 3. Classification Examples"
   ]
  },
  {
   "cell_type": "markdown",
   "metadata": {},
   "source": [
    "### 3.1 Decision Tree (Iris Dataset)"
   ]
  },
  {
   "cell_type": "code",
   "execution_count": null,
   "metadata": {},
   "outputs": [],
   "source": [
    "# Load data\n",
    "iris = load_iris()\n",
    "X, y = iris.data, iris.target\n",
    "\n",
    "# Split data\n",
    "X_train, X_test, y_train, y_test = train_test_split(X, y, test_size=0.2, random_state=42)\n",
    "\n",
    "# Create and fit model\n",
    "tree = DecisionTreeClassifier(max_depth=3, random_state=42)\n",
    "tree.fit(X_train, y_train)\n",
    "\n",
    "# Visualize tree\n",
    "plt.figure(figsize=(20, 10))\n",
    "plot_tree(tree, feature_names=iris.feature_names, \n",
    "          class_names=iris.target_names, filled=True, rounded=True)\n",
    "plt.title('Decision Tree for Iris Classification', fontsize=16)\n",
    "plt.show()\n",
    "\n",
    "# Evaluate\n",
    "print(f\"Test accuracy: {tree.score(X_test, y_test):.4f}\")\n",
    "print(\"\\nClassification Report:\")\n",
    "print(classification_report(y_test, tree.predict(X_test), target_names=iris.target_names))"
   ]
  },
  {
   "cell_type": "markdown",
   "metadata": {},
   "source": [
    "### 3.2 Random Forest (Breast Cancer Detection)"
   ]
  },
  {
   "cell_type": "code",
   "execution_count": null,
   "metadata": {},
   "outputs": [],
   "source": [
    "# Load data\n",
    "data = load_breast_cancer()\n",
    "X, y = data.data, data.target\n",
    "\n",
    "# Split data\n",
    "X_train, X_test, y_train, y_test = train_test_split(X, y, test_size=0.2, random_state=42)\n",
    "\n",
    "# Create and fit model\n",
    "rf = RandomForestClassifier(n_estimators=100, random_state=42)\n",
    "rf.fit(X_train, y_train)\n",
    "\n",
    "# Evaluate\n",
    "print(\"Random Forest Performance:\")\n",
    "print(classification_report(y_test, rf.predict(X_test), target_names=data.target_names))\n",
    "\n",
    "# Feature importance\n",
    "plt.figure(figsize=(12, 8))\n",
    "sorted_idx = rf.feature_importances_.argsort()\n",
    "plt.barh(np.array(data.feature_names)[sorted_idx], rf.feature_importances_[sorted_idx])\n",
    "plt.title('Feature Importance in Breast Cancer Detection', fontsize=16)\n",
    "plt.xlabel('Importance Score', fontsize=14)\n",
    "plt.show()"
   ]
  },
  {
   "cell_type": "markdown",
   "metadata": {},
   "source": [
    "### 3.3 K-Nearest Neighbors (Customer Segmentation)"
   ]
  },
  {
   "cell_type": "code",
   "execution_count": null,
   "metadata": {},
   "outputs": [],
   "source": [
    "# Generate synthetic data\n",
    "X, y = make_classification(n_samples=200, n_features=2, n_classes=3, \n",
    "                          n_clusters_per_class=1, random_state=42)\n",
    "\n",
    "# Scale data\n",
    "scaler = StandardScaler()\n",
    "X_scaled = scaler.fit_transform(X)\n",
    "\n",
    "# Create and fit model\n",
    "knn = KNeighborsClassifier(n_neighbors=5)\n",
    "knn.fit(X_scaled, y)\n",
    "\n",
    "# Create meshgrid for decision boundaries\n",
    "x_min, x_max = X_scaled[:, 0].min() - 1, X_scaled[:, 0].max() + 1\n",
    "y_min, y_max = X_scaled[:, 1].min() - 1, X_scaled[:, 1].max() + 1\n",
    "xx, yy = np.meshgrid(np.linspace(x_min, x_max, 100),\n",
    "                     np.linspace(y_min, y_max, 100))\n",
    "\n",
    "# Predict for each point in meshgrid\n",
    "Z = knn.predict(np.c_[xx.ravel(), yy.ravel()])\n",
    "Z = Z.reshape(xx.shape)\n",
    "\n",
    "# Plot\n",
    "plt.figure(figsize=(10, 8))\n",
    "plt.contourf(xx, yy, Z, alpha=0.4, cmap='viridis')\n",
    "plt.scatter(X_scaled[:, 0], X_scaled[:, 1], c=y, s=50, edgecolor='k', cmap='viridis')\n",
    "plt.title('KNN Decision Boundaries (k=5)', fontsize=16)\n",
    "plt.xlabel('Feature 1 (scaled)', fontsize=14)\n",
    "plt.ylabel('Feature 2 (scaled)', fontsize=14)\n",
    "plt.colorbar(label='Class')\n",
    "plt.show()"
   ]
  },
  {
   "cell_type": "markdown",
   "metadata": {},
   "source": [
    "## 4. Differential Privacy in Supervised Learning"
   ]
  },
  {
   "cell_type": "markdown",
   "metadata": {},
   "source": [
    "### 4.1 Differentially Private Linear Regression"
   ]
  },
  {
   "cell_type": "code",
   "execution_count": null,
   "metadata": {},
   "outputs": [],
   "source": [
    "# Reuse the simple linear regression data\n",
    "X = np.array([750, 800, 850, 900, 950, 1000, 1050, 1100, 1150, 1200]).reshape(-1, 1)\n",
    "y = np.array([150000, 165000, 175000, 185000, 195000, 210000, 220000, 230000, 245000, 250000])\n",
    "\n",
    "# Create DP model (epsilon is privacy budget)\n",
    "dp_model = DPLinearRegression(epsilon=1.0, data_norm=10.0)\n",
    "dp_model.fit(X, y)\n",
    "\n",
    "# Regular regression for comparison\n",
    "reg_model = LinearRegression()\n",
    "reg_model.fit(X, y)\n",
    "\n",
    "# Predictions\n",
    "y_pred_dp = dp_model.predict(X)\n",
    "y_pred_reg = reg_model.predict(X)\n",
    "\n",
    "# Plot comparison\n",
    "plt.figure(figsize=(10, 6))\n",
    "plt.scatter(X, y, color='blue', alpha=0.7, label='Actual Data')\n",
    "plt.plot(X, y_pred_reg, color='red', linewidth=2, label='Regular Regression')\n",
    "plt.plot(X, y_pred_dp, color='green', linewidth=2, linestyle='--', label='DP Regression (ε=1.0)')\n",
    "plt.title('Comparison: Regular vs Differentially Private Regression', fontsize=16)\n",
    "plt.xlabel('Size (sq ft)', fontsize=14)\n",
    "plt.ylabel('Price ($)', fontsize=14)\n",
    "plt.legend(fontsize=12)\n",
    "plt.grid(True)\n",
    "plt.show()\n",
    "\n",
    "print(\"Regular Regression MSE:\", mean_squared_error(y, y_pred_reg))\n",
    "print(\"DP Regression MSE:\", mean_squared_error(y, y_pred_dp))"
   ]
  },
  {
   "cell_type": "markdown",
   "metadata": {},
   "source": [
    "### 4.2 Privacy-Preserving Decision Trees"
   ]
  },
  {
   "cell_type": "code",
   "execution_count": null,
   "metadata": {},
   "outputs": [],
   "source": [
    "# Load iris data again\n",
    "iris = load_iris()\n",
    "X, y = iris.data, iris.target\n",
    "X_train, X_test, y_train, y_test = train_test_split(X, y, test_size=0.2, random_state=42)\n",
    "\n",
    "# Create DP decision tree\n",
    "dp_tree = DPDecisionTreeClassifier(epsilon=0.5, max_depth=3, random_state=42)\n",
    "dp_tree.fit(X_train, y_train)\n",
    "\n",
    "# Regular decision tree for comparison\n",
    "reg_tree = DecisionTreeClassifier(max_depth=3, random_state=42)\n",
    "reg_tree.fit(X_train, y_train)\n",
    "\n",
    "# Visualize DP tree\n",
    "plt.figure(figsize=(20, 10))\n",
    "plot_tree(dp_tree, feature_names=iris.feature_names, \n",
    "          class_names=iris.target_names, filled=True, rounded=True)\n",
    "plt.title('Differentially Private Decision Tree (ε=0.5)', fontsize=16)\n",
    "plt.show()\n",
    "\n",
    "# Compare performance\n",
    "print(\"Regular Decision Tree Accuracy:\", reg_tree.score(X_test, y_test))\n",
    "print(\"DP Decision Tree Accuracy:\", dp_tree.score(X_test, y_test))"
   ]
  },
  {
   "cell_type": "markdown",
   "metadata": {},
   "source": [
    "## 5. Summary\n",
    "\n",
    "This notebook demonstrated:\n",
    "- Regression techniques (Linear and Polynomial)\n",
    "- Classification algorithms (Decision Trees, Random Forest, KNN)\n",
    "- Differential Privacy implementations for both regression and classification\n",
    "\n",
    "Key takeaways:\n",
    "- Different algorithms work better for different types of problems\n",
    "- Differential Privacy adds noise to protect individual data while maintaining model utility\n",
    "- There's always a trade-off between model accuracy and privacy protection"
   ]
  }
 ],
 "metadata": {
  "kernelspec": {
   "display_name": "Python 3",
   "language": "python",
   "name": "python3"
  },
  "language_info": {
   "codemirror_mode": {
    "name": "ipython",
    "version": 3
   },
   "file_extension": ".py",
   "mimetype": "text/x-python",
   "name": "python",
   "nbconvert_exporter": "python",
   "pygments_lexer": "ipython3",
   "version": "3.8.5"
  }
 },
 "nbformat": 4,
 "nbformat_minor": 4
}
